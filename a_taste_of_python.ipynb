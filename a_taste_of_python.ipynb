{
  "cells": [
    {
      "cell_type": "markdown",
      "metadata": {
        "id": "view-in-github",
        "colab_type": "text"
      },
      "source": [
        "<a href=\"https://colab.research.google.com/github/KamNg06/Business-Programming-/blob/main/a_taste_of_python.ipynb\" target=\"_parent\"><img src=\"https://colab.research.google.com/assets/colab-badge.svg\" alt=\"Open In Colab\"/></a>"
      ]
    },
    {
      "cell_type": "markdown",
      "metadata": {
        "id": "990c534e-ee5b-4406-ac98-d3357f3bd7ec"
      },
      "source": [
        "# A Taste of Python\n",
        "\n",
        "Computers do two things really well. ***Store values*** and ***perform operations*** on those values\n",
        "\n",
        "You might think they’re doing a whole lot more, as you send texts, shop online, or rely on your phone to navigate in your car; however, everything computers do can be broken down into simple operations that are performed on simple values.\n",
        "\n",
        "Now, part of computational thinking is learning to use these operations and values to build something that is much more sophisticated, complex, and meaningful—and we’re going to get to that.\n",
        "\n",
        "First, though, we’re going to take a look at what these values are, the operations you can perform on them, and just what role variables play in all this.\n",
        "\n",
        "# Store Values\n",
        "\n",
        "### What is a value?\n",
        "\n",
        "Because programs are written to process data, you must have a good understanding of the nature and structure of the data being processed.\n",
        "\n",
        "Data within a program may be a single value, such as a number.  In the cell below try some different numbers, say 123, or 31.7."
      ],
      "id": "990c534e-ee5b-4406-ac98-d3357f3bd7ec"
    },
    {
      "cell_type": "code",
      "execution_count": null,
      "metadata": {
        "colab": {
          "base_uri": "https://localhost:8080/"
        },
        "id": "a3506a0d-e007-45b1-920f-d499033baf9f",
        "outputId": "c8aa9ffa-c08f-433b-c928-d736f09ab7ba"
      },
      "outputs": [
        {
          "output_type": "execute_result",
          "data": {
            "text/plain": [
              "66"
            ]
          },
          "metadata": {},
          "execution_count": 34
        }
      ],
      "source": [
        "66"
      ],
      "id": "a3506a0d-e007-45b1-920f-d499033baf9f"
    },
    {
      "cell_type": "markdown",
      "metadata": {
        "id": "7e26a95d-228d-41e5-8c4e-895765bc23f7"
      },
      "source": [
        "Data within a program may be a single value, such as a character.  Are the quotes important? Is 'A' different from 'a'?"
      ],
      "id": "7e26a95d-228d-41e5-8c4e-895765bc23f7"
    },
    {
      "cell_type": "code",
      "execution_count": null,
      "metadata": {
        "id": "cbd8c919-9732-4f5d-9b82-9209aff137f6",
        "colab": {
          "base_uri": "https://localhost:8080/"
        },
        "outputId": "4eed12e7-52cb-4d75-b3bb-e4324ecca818"
      },
      "outputs": [
        {
          "output_type": "execute_result",
          "data": {
            "text/plain": [
              "True"
            ]
          },
          "metadata": {},
          "execution_count": 2
        }
      ],
      "source": [
        "'A' != 'a'"
      ],
      "id": "cbd8c919-9732-4f5d-9b82-9209aff137f6"
    },
    {
      "cell_type": "markdown",
      "metadata": {
        "id": "d6583eb9-8381-4de7-b70a-3da9bae50b5b"
      },
      "source": [
        "Data within a program may be a single value, such as true or false.  In programming we call the a booloean value, sometimes abbreviated as bool."
      ],
      "id": "d6583eb9-8381-4de7-b70a-3da9bae50b5b"
    },
    {
      "cell_type": "code",
      "execution_count": null,
      "metadata": {
        "id": "e222c1a7-963f-4ab7-8d95-02fead45cc14",
        "colab": {
          "base_uri": "https://localhost:8080/"
        },
        "outputId": "413e8198-35f6-4c5a-9e09-12933089f8be"
      },
      "outputs": [
        {
          "output_type": "stream",
          "name": "stdout",
          "text": [
            "it's hot outside\n"
          ]
        }
      ],
      "source": [
        "is_hot= True\n",
        "if is_hot:\n",
        "    print(\"it's hot outside\")\n",
        "else:\n",
        "    print(\"it's not hot outside\")"
      ],
      "id": "e222c1a7-963f-4ab7-8d95-02fead45cc14"
    },
    {
      "cell_type": "markdown",
      "metadata": {
        "id": "6b5fad28-f83e-4071-8c07-b682f0f8a378"
      },
      "source": [
        "Data within a program may be a group items such as a list.  The list could contian the same or different type of values."
      ],
      "id": "6b5fad28-f83e-4071-8c07-b682f0f8a378"
    },
    {
      "cell_type": "code",
      "execution_count": null,
      "metadata": {
        "id": "45204b84-3142-48dc-bb82-15d07ac5bcb5",
        "colab": {
          "base_uri": "https://localhost:8080/"
        },
        "outputId": "f50457f3-40f3-4384-8195-e85394ff1111"
      },
      "outputs": [
        {
          "output_type": "stream",
          "name": "stdout",
          "text": [
            "(1, 2, 3, 4)\n"
          ]
        }
      ],
      "source": [
        "list = (1, 2, 3, 4)\n",
        "print(list)"
      ],
      "id": "45204b84-3142-48dc-bb82-15d07ac5bcb5"
    },
    {
      "cell_type": "markdown",
      "metadata": {
        "id": "5f4d9675-4fac-43f3-a786-e2d82ebd3d3c"
      },
      "source": [
        "Data within a program may be a group items such as a string."
      ],
      "id": "5f4d9675-4fac-43f3-a786-e2d82ebd3d3c"
    },
    {
      "cell_type": "code",
      "execution_count": null,
      "metadata": {
        "colab": {
          "base_uri": "https://localhost:8080/",
          "height": 35
        },
        "id": "a04eb2f0-4f59-47ea-9556-3cba1c88ac1c",
        "outputId": "abda23eb-075b-46ca-8198-a76cc108bf07"
      },
      "outputs": [
        {
          "output_type": "execute_result",
          "data": {
            "text/plain": [
              "'This is a string'"
            ],
            "application/vnd.google.colaboratory.intrinsic+json": {
              "type": "string"
            }
          },
          "metadata": {},
          "execution_count": 33
        }
      ],
      "source": [
        "\"This is a string\""
      ],
      "id": "a04eb2f0-4f59-47ea-9556-3cba1c88ac1c"
    },
    {
      "cell_type": "markdown",
      "metadata": {
        "id": "f00208cc-adc9-4a36-92b4-1d54f08c3d7a"
      },
      "source": [
        "Is there a way to determine the type of an item is? In Python we have a the *type()* function. In the cell below, find out the type of  3, 3.0, '3', '3.0'  and [3, 3.0,'3', '3.0'].\n",
        "> We are going to use functions a lot, before long you will understand exactly how they work and even know how to create your own, but for now just think of them as a way to *ask* Python to do some work.  In the cell is known as **calling** the *type* function.  Functions have a name followed by left parenthesis, a data item and end with a right parenthesis."
      ],
      "id": "f00208cc-adc9-4a36-92b4-1d54f08c3d7a"
    },
    {
      "cell_type": "code",
      "execution_count": null,
      "metadata": {
        "id": "112bf20b-79c2-43cd-9524-ed3fcd5ff9e0",
        "colab": {
          "base_uri": "https://localhost:8080/"
        },
        "outputId": "b293a957-32d6-4b1d-d7d6-20d5f84705e4"
      },
      "outputs": [
        {
          "output_type": "stream",
          "name": "stdout",
          "text": [
            "<class 'int'>\n",
            "<class 'float'>\n",
            "<class 'str'>\n",
            "<class 'str'>\n"
          ]
        }
      ],
      "source": [
        "# find out the type of each item\n",
        "print(type(3))\n",
        "print(type(3.0))\n",
        "print(type('3'))\n",
        "print(type('3.0'))"
      ],
      "id": "112bf20b-79c2-43cd-9524-ed3fcd5ff9e0"
    },
    {
      "cell_type": "markdown",
      "metadata": {
        "id": "2dda7b13-5322-4cb2-9984-7707075fb87f"
      },
      "source": [
        "What are the different types?  Here is a simple table, we will expand on this later.\n",
        "\n",
        "| Data Type | Python Expressions | Description                   | Example |\n",
        "|-----------|--------------------|-------------------------------|---------|\n",
        "|integer    | int                | A whole numeber               | 143267  |\n",
        "|decimal    | float              | A floating point number       | 3.13159 |\n",
        "|string     | str                | Set of characters in quotes   | \"Hello\" |\n",
        "|boolean    | bool               | anything evaluates true/false | True    |\n",
        "|List       | list               | An ordered list of values     | [1,4,5] |\n",
        "\n",
        "\n",
        "\n",
        "### How do we store values?\n",
        "\n",
        "To be useful we need a way to store values in computer's memory.  To this we need to be able to identify a location in memory.  We could use a memory address but that could get confusing, instead we given the location a name, and identifier.  In programming we call this a variable.  A ***variable*** is the name given to a part of the computers memory, designed to store aprticular data item.  It is called a variable because the value stored may change or vary as the program executes. The values we typed in above are know as literals. A **literal** is a constant whose *name* is the written representaiton of the value.  A ***constant*** is a data item with a name amd a value that will remian the same during the executation of a program.  We will use constants later.\n",
        "\n",
        "To store a value, we create a variable and then assign the value.  To assign  a value we use the equals (**=**) sign."
      ],
      "id": "2dda7b13-5322-4cb2-9984-7707075fb87f"
    },
    {
      "cell_type": "code",
      "execution_count": null,
      "metadata": {
        "colab": {
          "base_uri": "https://localhost:8080/"
        },
        "id": "1a4fdd7b-c2b2-4be3-be60-98fcb3da27d9",
        "outputId": "63c58b4c-1b68-43fd-ceed-f882b348e813"
      },
      "outputs": [
        {
          "output_type": "execute_result",
          "data": {
            "text/plain": [
              "21"
            ]
          },
          "metadata": {},
          "execution_count": 29
        }
      ],
      "source": [
        "Age=21\n",
        "Age"
      ],
      "id": "1a4fdd7b-c2b2-4be3-be60-98fcb3da27d9"
    },
    {
      "cell_type": "markdown",
      "metadata": {
        "id": "0a2fb99e-a477-4f13-ae2e-510eab3e3d44"
      },
      "source": [
        "What is the type of a variable?  We can use the type() function to find out.\n",
        "> Notice how we can use a *variable* just like we use a *value* in the above cells"
      ],
      "id": "0a2fb99e-a477-4f13-ae2e-510eab3e3d44"
    },
    {
      "cell_type": "code",
      "execution_count": null,
      "metadata": {
        "colab": {
          "base_uri": "https://localhost:8080/"
        },
        "id": "41ca8219-83d6-4aca-92bf-3835fdaa19fb",
        "outputId": "608be026-382d-472c-f2fd-92ffc0ecc755"
      },
      "outputs": [
        {
          "output_type": "execute_result",
          "data": {
            "text/plain": [
              "int"
            ]
          },
          "metadata": {},
          "execution_count": 30
        }
      ],
      "source": [
        "type(Age)"
      ],
      "id": "41ca8219-83d6-4aca-92bf-3835fdaa19fb"
    },
    {
      "cell_type": "markdown",
      "metadata": {
        "id": "56ca1fd8-bddf-4bd7-af91-6487badc429f"
      },
      "source": [
        "We can assigned group items to variables"
      ],
      "id": "56ca1fd8-bddf-4bd7-af91-6487badc429f"
    },
    {
      "cell_type": "code",
      "execution_count": null,
      "metadata": {
        "colab": {
          "base_uri": "https://localhost:8080/"
        },
        "id": "237a9327-373d-4224-92cf-8d922aa873a5",
        "outputId": "966fea23-1c72-47f6-9232-fbac2a82ab4d"
      },
      "outputs": [
        {
          "output_type": "execute_result",
          "data": {
            "text/plain": [
              "(1, 3, 4, 6)"
            ]
          },
          "metadata": {},
          "execution_count": 31
        }
      ],
      "source": [
        "ages=(1,3,4,6)\n",
        "ages"
      ],
      "id": "237a9327-373d-4224-92cf-8d922aa873a5"
    },
    {
      "cell_type": "markdown",
      "metadata": {
        "id": "277f56d4-e52a-411d-8cae-5d0a84abde80"
      },
      "source": [
        "We can change a varialbe"
      ],
      "id": "277f56d4-e52a-411d-8cae-5d0a84abde80"
    },
    {
      "cell_type": "code",
      "execution_count": null,
      "metadata": {
        "colab": {
          "base_uri": "https://localhost:8080/"
        },
        "id": "0256c9c6-fe19-43e6-8945-bff88804d457",
        "outputId": "16f0afab-d913-419a-eb46-baf5f0b5b39d"
      },
      "outputs": [
        {
          "output_type": "execute_result",
          "data": {
            "text/plain": [
              "tuple"
            ]
          },
          "metadata": {},
          "execution_count": 32
        }
      ],
      "source": [
        "type(ages)"
      ],
      "id": "0256c9c6-fe19-43e6-8945-bff88804d457"
    },
    {
      "cell_type": "markdown",
      "metadata": {
        "id": "257d6ae7-d4bf-4c75-aae3-800511733978"
      },
      "source": [
        "#### Naming rules\n",
        "\n",
        "Variable names must be unique and they are case sensitive.\n",
        "* Only letters, numbers, and the underscore character (_) can be used  ```this.is.not.allowed```\n",
        "* No spaces ```this is not allowed```\n",
        "* No quotes ```“NotAllowed”```\n",
        "* Can’t start with a number ```6notAllowed```\n",
        "* Can't be a keyword  ```import```\n",
        "\n",
        "#### Naming conventions\n",
        "We will learn other naming conventions, but for now\n",
        "* variable names should be meaningfuly (can someone else understand)\n",
        "* seperate words with underscores ```monthly_sales```  (this is called snake_case)\n",
        "\n",
        "\n",
        "\n",
        "# Perform Operations\n",
        "\n",
        "There are six basic computer operations.\n",
        "\n",
        "1. Receive Informaiton.\n",
        "1. Output information.\n",
        "1. Assign a value to a variable. There are three cases where you may assign a value to variable.\n",
        "    * give data an initial value.\n",
        "    * assign a value as a results of some processing\n",
        "    * to keep a piece of information for later use.\n",
        "1. Perform arithmetic.\n",
        "1. Compare two variables and select appropriate action.\n",
        "1. Repeat a group of actions.\n",
        "\n",
        "> When designing an algorithm you need to keep in mind that the set of instruction written will eventually be performed by a computer.  That is your words and phrases in the pseudocode which are in line with computer operations, the translation form pseudocode to specific programming language becomes quite simple.\n",
        "\n",
        "## Receive Information\n",
        "\n",
        "Python has a *input* function that will allow you to enter information form the keyboard."
      ],
      "id": "257d6ae7-d4bf-4c75-aae3-800511733978"
    },
    {
      "cell_type": "code",
      "execution_count": null,
      "metadata": {
        "colab": {
          "base_uri": "https://localhost:8080/",
          "height": 53
        },
        "id": "a92584fc-fa5c-4941-b747-b042849cb114",
        "outputId": "e65c3e8a-f7df-45d4-fc11-ea157861ecca"
      },
      "outputs": [
        {
          "name": "stdout",
          "output_type": "stream",
          "text": [
            "what is yout nameBob\n"
          ]
        },
        {
          "output_type": "execute_result",
          "data": {
            "text/plain": [
              "'Bob'"
            ],
            "application/vnd.google.colaboratory.intrinsic+json": {
              "type": "string"
            }
          },
          "metadata": {},
          "execution_count": 18
        }
      ],
      "source": [
        "input(\"what is yout name\")"
      ],
      "id": "a92584fc-fa5c-4941-b747-b042849cb114"
    },
    {
      "cell_type": "markdown",
      "metadata": {
        "id": "fb98df5c-aaba-47c6-b210-a69c413ed123"
      },
      "source": [
        "How does *input* work?\n",
        "1. The interpreter see the call to the *input* function, it take the prompt text and displays it for the user\n",
        "2. The interpreter then waits for the user to type in a repsonse, which the user completes by pressing the return key (also called the enter key)\n",
        "3. Finally the text the user types in is passed back to your code.\n",
        "\n",
        "Now, the text isint going to be useful if we cant remember it for later.  To do this we store the *return value* to a variable"
      ],
      "id": "fb98df5c-aaba-47c6-b210-a69c413ed123"
    },
    {
      "cell_type": "code",
      "execution_count": null,
      "metadata": {
        "colab": {
          "base_uri": "https://localhost:8080/"
        },
        "id": "5636b5db-1114-40bb-a88f-47874c11890e",
        "outputId": "bfefc6dd-28b4-4880-8b56-e0fda54aefc0"
      },
      "outputs": [
        {
          "name": "stdout",
          "output_type": "stream",
          "text": [
            "what is your nameBob\n"
          ]
        }
      ],
      "source": [
        "name = input (\"what is your name\")"
      ],
      "id": "5636b5db-1114-40bb-a88f-47874c11890e"
    },
    {
      "cell_type": "markdown",
      "metadata": {
        "id": "25087e0c-c18a-4478-b79a-01fbcefb8bc9"
      },
      "source": [
        "## Output Information\n",
        "\n",
        "Python has a *print* function that can output a message to the screen"
      ],
      "id": "25087e0c-c18a-4478-b79a-01fbcefb8bc9"
    },
    {
      "cell_type": "code",
      "execution_count": null,
      "metadata": {
        "colab": {
          "base_uri": "https://localhost:8080/"
        },
        "id": "f600bbf8-e6d3-44f3-8301-86952bf50156",
        "outputId": "dfc6d1e4-ba5e-4d7e-87bc-a1c516335743"
      },
      "outputs": [
        {
          "output_type": "stream",
          "name": "stdout",
          "text": [
            "hello world\n"
          ]
        }
      ],
      "source": [
        "print(\"hello world\")"
      ],
      "id": "f600bbf8-e6d3-44f3-8301-86952bf50156"
    },
    {
      "cell_type": "markdown",
      "metadata": {
        "id": "5964a396-2596-47ba-b7b9-ca950cc6fa52"
      },
      "source": [
        "The interpreter sees the call to the *print* function, it takes the message text and displys it to the user.\n",
        "\n",
        "Can we print variables?"
      ],
      "id": "5964a396-2596-47ba-b7b9-ca950cc6fa52"
    },
    {
      "cell_type": "code",
      "execution_count": null,
      "metadata": {
        "colab": {
          "base_uri": "https://localhost:8080/"
        },
        "id": "d09bdd9a-f5f0-426e-baf6-3d20472f19a5",
        "outputId": "747e44af-337b-4f45-810a-ad8b0ecf211f"
      },
      "outputs": [
        {
          "output_type": "stream",
          "name": "stdout",
          "text": [
            "21\n"
          ]
        }
      ],
      "source": [
        "print(Age)"
      ],
      "id": "d09bdd9a-f5f0-426e-baf6-3d20472f19a5"
    },
    {
      "cell_type": "code",
      "execution_count": null,
      "metadata": {
        "id": "2mwHJyoJnMW3"
      },
      "outputs": [],
      "source": [],
      "id": "2mwHJyoJnMW3"
    },
    {
      "cell_type": "markdown",
      "metadata": {
        "id": "77cb490e-4c83-4073-97b2-0c8ca66f0158"
      },
      "source": [
        "As you can see the *print* function will take a **literial** or a **variable**.  We will see later that the *print* function can do more, but this is a good start.\n",
        "\n",
        "## Assign a value to a variable\n",
        "\n",
        "We have seen each of three cases, but I will repeat here for clarity.\n",
        "\n",
        "I have added some *comments* to the code.  Comments are just notes after the **#** marks.  We use comments to explain the purpose of the code.  Comments can be thought of as helpful pseudocode."
      ],
      "id": "77cb490e-4c83-4073-97b2-0c8ca66f0158"
    },
    {
      "cell_type": "code",
      "execution_count": null,
      "metadata": {
        "id": "9311e0b3-9933-4839-8263-a8c963bcef03",
        "colab": {
          "base_uri": "https://localhost:8080/"
        },
        "outputId": "d5d1e45b-3e98-4ed4-8e2f-bb629c48e57b"
      },
      "outputs": [
        {
          "output_type": "stream",
          "name": "stdout",
          "text": [
            "what day is it Tuesday\n",
            " Tuesday\n"
          ]
        }
      ],
      "source": [
        "# example of giving a variable an initial value\n",
        "\n",
        "number = 1\n",
        "# example of assigning a value as a result of some processing\n",
        "Day = input(\"what day is it\")\n",
        "\n",
        "# example of using a piece of information later\n",
        "print (Day)\n"
      ],
      "id": "9311e0b3-9933-4839-8263-a8c963bcef03"
    },
    {
      "cell_type": "markdown",
      "metadata": {
        "id": "7882c412-459a-413f-aed8-44bd52789a47"
      },
      "source": [
        "## Perform Arithmetic\n",
        "\n",
        "\n",
        "| Operation | Description           | Example       |  Result  |\n",
        "|:---------:|-----------------------|---------------|----------|\n",
        "| ```+```   | Addition              | ```3 + 2.2``` | ```5.2```|\n",
        "| ```-```   | Subtraction           | ```5 - 2```   | ```3```  |\n",
        "| ```*```   | Multiplication        | ```3 * 8```   | ```24``` |\n",
        "| ```**```  | Raise to the power of | ```3 ** 2```  | ```9```  |\n",
        "| ```/```   | Division              | ```5/2```     | ```2.5```|\n",
        "| ```//```  | Integer Division      | ```5/2```     | ```2```  |\n",
        "| ```%```   | Modulo                | ```5%2```     | ```1```  |\n",
        "\n",
        "Use the cell below to try out some of the examples"
      ],
      "id": "7882c412-459a-413f-aed8-44bd52789a47"
    },
    {
      "cell_type": "code",
      "execution_count": null,
      "metadata": {
        "colab": {
          "base_uri": "https://localhost:8080/"
        },
        "id": "4f02a3c4-92df-4b56-9699-8627467a6e14",
        "outputId": "66a17e82-31d0-4db7-8855-08407a04f119"
      },
      "outputs": [
        {
          "output_type": "execute_result",
          "data": {
            "text/plain": [
              "7"
            ]
          },
          "metadata": {},
          "execution_count": 38
        }
      ],
      "source": [
        "n1=3\n",
        "n2=4\n",
        "n1+n2"
      ],
      "id": "4f02a3c4-92df-4b56-9699-8627467a6e14"
    },
    {
      "cell_type": "markdown",
      "metadata": {
        "id": "26d55bd3-e43b-4bb4-b0f9-cc3c46152ea0"
      },
      "source": [
        "```3 + 2.2``` is called an expression.  When you evaluate an expression you can store the result into a variable"
      ],
      "id": "26d55bd3-e43b-4bb4-b0f9-cc3c46152ea0"
    },
    {
      "cell_type": "code",
      "execution_count": null,
      "metadata": {
        "id": "b9db7b35-3936-48a4-b3ae-957fc9ac6468",
        "colab": {
          "base_uri": "https://localhost:8080/"
        },
        "outputId": "a61c50ce-6303-4421-b841-187492a1a471"
      },
      "outputs": [
        {
          "output_type": "stream",
          "name": "stdout",
          "text": [
            "7\n"
          ]
        }
      ],
      "source": [
        "sum=n1+n2\n",
        "print (sum)"
      ],
      "id": "b9db7b35-3936-48a4-b3ae-957fc9ac6468"
    },
    {
      "cell_type": "markdown",
      "metadata": {
        "id": "37f7414e-0a5f-42ba-9e21-e37ab1e1a27e"
      },
      "source": [
        "You can print expresisons"
      ],
      "id": "37f7414e-0a5f-42ba-9e21-e37ab1e1a27e"
    },
    {
      "cell_type": "code",
      "execution_count": null,
      "metadata": {
        "colab": {
          "base_uri": "https://localhost:8080/"
        },
        "id": "9bb15522-6a92-40a1-b83e-571081a9b66d",
        "outputId": "c9eda0d7-4f8f-4d49-fb2c-cd8c5e6963c8"
      },
      "outputs": [
        {
          "output_type": "stream",
          "name": "stdout",
          "text": [
            "5\n"
          ]
        }
      ],
      "source": [
        "print(2+3)"
      ],
      "id": "9bb15522-6a92-40a1-b83e-571081a9b66d"
    },
    {
      "cell_type": "markdown",
      "metadata": {
        "id": "99c9524a-68a8-41c9-9266-1ce1f07e39ec"
      },
      "source": [
        "Can perform arithmetic with variables"
      ],
      "id": "99c9524a-68a8-41c9-9266-1ce1f07e39ec"
    },
    {
      "cell_type": "code",
      "execution_count": null,
      "metadata": {
        "colab": {
          "base_uri": "https://localhost:8080/"
        },
        "id": "1b877516-548e-4f00-88c2-d9ce1651d2c0",
        "outputId": "a974258c-19ef-412b-bc66-f41c0e182551"
      },
      "outputs": [
        {
          "output_type": "execute_result",
          "data": {
            "text/plain": [
              "36"
            ]
          },
          "metadata": {},
          "execution_count": 41
        }
      ],
      "source": [
        "n3=4\n",
        "n4=9\n",
        "n3*n4"
      ],
      "id": "1b877516-548e-4f00-88c2-d9ce1651d2c0"
    },
    {
      "cell_type": "markdown",
      "metadata": {
        "id": "07d15980-3e1a-4a0c-8e68-599c09591dda"
      },
      "source": [
        "Lets sum two number input form the user"
      ],
      "id": "07d15980-3e1a-4a0c-8e68-599c09591dda"
    },
    {
      "cell_type": "code",
      "execution_count": null,
      "metadata": {
        "colab": {
          "base_uri": "https://localhost:8080/"
        },
        "id": "3c090a42-004e-4922-bd72-ed59ff88cb53",
        "outputId": "8fc8eaff-c77a-4bd5-d31d-71fd630b90a3"
      },
      "outputs": [
        {
          "output_type": "stream",
          "name": "stdout",
          "text": [
            "Please enter first number3\n",
            "Please enter second number4\n",
            "7\n"
          ]
        }
      ],
      "source": [
        "(num1) =int (input(\"Please enter first number\"))\n",
        "num2 =int (input(\"Please enter second number\"))\n",
        "result = num1 + num2\n",
        "print(result)"
      ],
      "id": "3c090a42-004e-4922-bd72-ed59ff88cb53"
    },
    {
      "cell_type": "markdown",
      "metadata": {
        "id": "9e2da386-c608-408e-9dee-af674c646c06"
      },
      "source": [
        "What happened?  It didn't add the input, it joined(concatenated) the input.  Lets run the next two cell to investigate."
      ],
      "id": "9e2da386-c608-408e-9dee-af674c646c06"
    },
    {
      "cell_type": "code",
      "execution_count": null,
      "metadata": {
        "colab": {
          "base_uri": "https://localhost:8080/"
        },
        "id": "43dc5d55-891a-4667-888c-63a681ba0a26",
        "outputId": "8bc31789-3e13-4c3f-d1a0-4681322cbcd3"
      },
      "outputs": [
        {
          "output_type": "stream",
          "name": "stdout",
          "text": [
            "enter first number5\n",
            "5\n"
          ]
        }
      ],
      "source": [
        "num1=input (\"enter first number\")\n",
        "print(num1)"
      ],
      "id": "43dc5d55-891a-4667-888c-63a681ba0a26"
    },
    {
      "cell_type": "markdown",
      "metadata": {
        "id": "73a4d763-46da-4c8d-a61c-3acfa8e336b5"
      },
      "source": [
        "## Compare Two Variables\n",
        "\n",
        "Here is a simple program prints out the maximun of two numbers.  This also demonstrates some features of the Python language.\n",
        "\n",
        "> New lines are used to separate logical statements (similar to a period at the end of a sentence).\n",
        ">\n",
        "> Whitespaces (spaces and tabs) are used to indicate which statements should be grouped together (called blocks)\n",
        ">\n",
        "> Colons (:) are used to indicate the continuation of an idea at a deeper level.\n",
        "\n",
        "Try changing the numbers, and rerun the cell.  What happens if you swap *>* for *<*?   What is *<*? We use a *relational operator* to ask a True/False question about the realtionship between two variables.  The followinf table show the relational operators used in Python.\n",
        "\n",
        "\n",
        "| Operation | Description            | Example           |  Result     |\n",
        "|:---------:|------------------------|-------------------|-------------|\n",
        "| ```<```   | Less than              | ```3 < 2```       | ```False``` |\n",
        "| ```>```   | Greater than           | ```3 > 2```       | ```True```  |\n",
        "| ```<=```  | Less than or equal     | ```3 <= 2```      | ```False``` |\n",
        "| ```>=```  | greater than or equal  | ```3 >= 2```      | ```True```  |\n",
        "| ```==```  | equal to               | ```3 == 2```      | ```False``` |\n",
        "| ```!=```  | not equal to           | ```3 != 2```      | ```True```  |\n",
        "| ```not``` | not                    | ```not(3 == 2)``` | ```True```  |"
      ],
      "id": "73a4d763-46da-4c8d-a61c-3acfa8e336b5"
    },
    {
      "cell_type": "code",
      "execution_count": 44,
      "metadata": {
        "id": "b51f5001-2df5-42d1-99e8-850a4994048a",
        "colab": {
          "base_uri": "https://localhost:8080/"
        },
        "outputId": "63e2a724-c4c1-4476-a37f-0f72ffa1ee6e"
      },
      "outputs": [
        {
          "output_type": "stream",
          "name": "stdout",
          "text": [
            "second number is greater\n"
          ]
        }
      ],
      "source": [
        "num1 = 4\n",
        "num2 = 9\n",
        "if num1 > num2:\n",
        "    print(\"first number is greater\")\n",
        "else:\n",
        "    print(\"second number is greater\")"
      ],
      "id": "b51f5001-2df5-42d1-99e8-850a4994048a"
    },
    {
      "cell_type": "markdown",
      "metadata": {
        "id": "3f2fd3f9-31d2-49a1-84bc-9b71fe393a77"
      },
      "source": [
        "Notice the keyword are highlighted in a different colour.  This example uses a boolean expresison: ```first_number > second_number```.  A boolean expression is an *epxression* the evaluates to *True* or *False*.  The expresiosn uses a *relational operator*.  \n",
        "\n",
        " Can you write a version that prompts the user for the numbers?  What happens if you enter in the same number?"
      ],
      "id": "3f2fd3f9-31d2-49a1-84bc-9b71fe393a77"
    },
    {
      "cell_type": "code",
      "execution_count": null,
      "metadata": {
        "id": "137a88a9-e2eb-4ace-b1cc-b7fdf260941e"
      },
      "outputs": [],
      "source": [],
      "id": "137a88a9-e2eb-4ace-b1cc-b7fdf260941e"
    },
    {
      "cell_type": "code",
      "execution_count": null,
      "metadata": {
        "id": "7eb27a8b-f622-456b-9a87-bd9a3073ec30"
      },
      "outputs": [],
      "source": [],
      "id": "7eb27a8b-f622-456b-9a87-bd9a3073ec30"
    },
    {
      "cell_type": "markdown",
      "metadata": {
        "id": "54c8ec64-39d6-4e96-afb1-d36615f738bb"
      },
      "source": [
        "#### Repeat a group of actions\n",
        "\n",
        "Lets say I want to print out a countdown.  I could do a print statement for each."
      ],
      "id": "54c8ec64-39d6-4e96-afb1-d36615f738bb"
    },
    {
      "cell_type": "code",
      "execution_count": null,
      "metadata": {
        "id": "9e953c23-894f-48e8-a2ed-981e5e698af2"
      },
      "outputs": [],
      "source": [
        "print(10)\n",
        "print(9)\n",
        "print(8)\n",
        "print(7)\n",
        "print(6)\n",
        "print(5)\n",
        "print(4)\n",
        "print(3)\n",
        "print(2)\n",
        "print(1)\n",
        "print(\"Blast Off!\")"
      ],
      "id": "9e953c23-894f-48e8-a2ed-981e5e698af2"
    },
    {
      "cell_type": "markdown",
      "metadata": {
        "id": "eda408c4-53ac-4250-8982-4b96f62e75d8"
      },
      "source": [
        "Notice that each line is very similar, a print statement, and just printing out a different number.\n",
        "\n",
        "It turns out, repeating something is very common in programming and all languages provide way to do this easier.  In Python we can use the *for* loop. We will use a list of numbers.  Recall in Python a *list* is ordered.   There are other way to do this, but this notebook is to just give us a understanding.  We will explore loops in more detail in later notebooks."
      ],
      "id": "eda408c4-53ac-4250-8982-4b96f62e75d8"
    },
    {
      "cell_type": "code",
      "execution_count": 46,
      "metadata": {
        "id": "ca532d99-2994-46f4-a3a8-64506790c51a",
        "colab": {
          "base_uri": "https://localhost:8080/"
        },
        "outputId": "5219b4ab-6a24-4445-f8b5-86a577ec71d6"
      },
      "outputs": [
        {
          "output_type": "stream",
          "name": "stdout",
          "text": [
            "10\n",
            "9\n",
            "8\n",
            "7\n",
            "6\n"
          ]
        }
      ],
      "source": [
        "for count in [10,9,8,7,6]:\n",
        "    print(count)"
      ],
      "id": "ca532d99-2994-46f4-a3a8-64506790c51a"
    }
  ],
  "metadata": {
    "colab": {
      "provenance": [],
      "include_colab_link": true
    },
    "kernelspec": {
      "display_name": "Python 3 (ipykernel)",
      "language": "python",
      "name": "python3"
    },
    "language_info": {
      "codemirror_mode": {
        "name": "ipython",
        "version": 3
      },
      "file_extension": ".py",
      "mimetype": "text/x-python",
      "name": "python",
      "nbconvert_exporter": "python",
      "pygments_lexer": "ipython3",
      "version": "3.9.6"
    }
  },
  "nbformat": 4,
  "nbformat_minor": 5
}