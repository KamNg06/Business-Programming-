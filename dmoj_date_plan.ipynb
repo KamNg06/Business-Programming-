{
  "nbformat": 4,
  "nbformat_minor": 0,
  "metadata": {
    "colab": {
      "provenance": [],
      "authorship_tag": "ABX9TyNDmrynm7wRizssZ/BdHPUT",
      "include_colab_link": true
    },
    "kernelspec": {
      "name": "python3",
      "display_name": "Python 3"
    },
    "language_info": {
      "name": "python"
    }
  },
  "cells": [
    {
      "cell_type": "markdown",
      "metadata": {
        "id": "view-in-github",
        "colab_type": "text"
      },
      "source": [
        "<a href=\"https://colab.research.google.com/github/KamNg06/Business-Programming-/blob/main/dmoj_date_plan.ipynb\" target=\"_parent\"><img src=\"https://colab.research.google.com/assets/colab-badge.svg\" alt=\"Open In Colab\"/></a>"
      ]
    },
    {
      "cell_type": "code",
      "execution_count": 3,
      "metadata": {
        "colab": {
          "base_uri": "https://localhost:8080/"
        },
        "id": "OlqNgZLBFZ2k",
        "outputId": "505888b8-63f1-4f37-a17e-0b0a8a49dda9"
      },
      "outputs": [
        {
          "output_type": "stream",
          "name": "stdout",
          "text": [
            "10\n",
            "3\n",
            "4\n",
            "6\n",
            "2\n",
            "28\n"
          ]
        }
      ],
      "source": [
        "mb = int(input())\n",
        "excess = 0\n",
        "months = int (input())\n",
        "for m in range(months):\n",
        "  usage = int(input())\n",
        "  excess = excess + mb - usage\n",
        "\n",
        "print(excess + mb)"
      ]
    },
    {
      "cell_type": "code",
      "source": [
        "mb = int(input())\n",
        "months = int(input())\n",
        "total_mb * (months +1)\n",
        "\n",
        "for m in range(months):\n",
        "  usage = int(input())\n",
        "  total_mb += usage\n",
        "\n",
        "  print(total_mb)"
      ],
      "metadata": {
        "id": "quMkzqwaGB1X"
      },
      "execution_count": null,
      "outputs": []
    }
  ]
}